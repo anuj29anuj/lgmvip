{
  "nbformat": 4,
  "nbformat_minor": 0,
  "metadata": {
    "colab": {
      "name": "Stock Price Prediction using LSTM.ipynb",
      "provenance": [],
      "collapsed_sections": [],
      "authorship_tag": "ABX9TyN4WGQ1k5RkkyIi+fIn/aNk",
      "include_colab_link": true
    },
    "kernelspec": {
      "name": "python3",
      "display_name": "Python 3"
    },
    "language_info": {
      "name": "python"
    }
  },
  "cells": [
    {
      "cell_type": "markdown",
      "metadata": {
        "id": "view-in-github",
        "colab_type": "text"
      },
      "source": [
        "<a href=\"https://colab.research.google.com/github/anuj29anuj/lgmvip/blob/main/Stock_Price_Prediction_using_LSTM.ipynb\" target=\"_parent\"><img src=\"https://colab.research.google.com/assets/colab-badge.svg\" alt=\"Open In Colab\"/></a>"
      ]
    },
    {
      "cell_type": "code",
      "metadata": {
        "id": "cQgAOXSNSEj2"
      },
      "source": [
        "#Import required libraries\n",
        "import math\n",
        "import pandas_datareader as pdr\n",
        "import numpy as np\n",
        "import pandas as pd\n",
        "from sklearn.preprocessing import MinMaxScaler\n",
        "from keras.models import Sequential\n",
        "from keras.layers import Dense, LSTM\n",
        "import matplotlib.pyplot as plt\n",
        "plt.style.use('fivethirtyeight')"
      ],
      "execution_count": null,
      "outputs": []
    },
    {
      "cell_type": "code",
      "metadata": {
        "id": "tPOBnbfRVmPh"
      },
      "source": [
        "# Importing the training set\n",
        "url='https://raw.githubusercontent.com/mwitiderrick/stockprice/master/NSE-TATAGLOBAL.csv'\n",
        "dataset_train = pd.read_csv(url)\n",
        "training_set = dataset_train.iloc[:, 1:2].values"
      ],
      "execution_count": null,
      "outputs": []
    },
    {
      "cell_type": "code",
      "metadata": {
        "colab": {
          "base_uri": "https://localhost:8080/",
          "height": 203
        },
        "id": "PFR--9njW4T5",
        "outputId": "9dcd9187-23d2-4077-ab16-fa3dae0129b5"
      },
      "source": [
        "dataset_train.head()"
      ],
      "execution_count": null,
      "outputs": [
        {
          "output_type": "execute_result",
          "data": {
            "text/html": [
              "<div>\n",
              "<style scoped>\n",
              "    .dataframe tbody tr th:only-of-type {\n",
              "        vertical-align: middle;\n",
              "    }\n",
              "\n",
              "    .dataframe tbody tr th {\n",
              "        vertical-align: top;\n",
              "    }\n",
              "\n",
              "    .dataframe thead th {\n",
              "        text-align: right;\n",
              "    }\n",
              "</style>\n",
              "<table border=\"1\" class=\"dataframe\">\n",
              "  <thead>\n",
              "    <tr style=\"text-align: right;\">\n",
              "      <th></th>\n",
              "      <th>Date</th>\n",
              "      <th>Open</th>\n",
              "      <th>High</th>\n",
              "      <th>Low</th>\n",
              "      <th>Last</th>\n",
              "      <th>Close</th>\n",
              "      <th>Total Trade Quantity</th>\n",
              "      <th>Turnover (Lacs)</th>\n",
              "    </tr>\n",
              "  </thead>\n",
              "  <tbody>\n",
              "    <tr>\n",
              "      <th>0</th>\n",
              "      <td>2018-09-28</td>\n",
              "      <td>234.05</td>\n",
              "      <td>235.95</td>\n",
              "      <td>230.20</td>\n",
              "      <td>233.50</td>\n",
              "      <td>233.75</td>\n",
              "      <td>3069914</td>\n",
              "      <td>7162.35</td>\n",
              "    </tr>\n",
              "    <tr>\n",
              "      <th>1</th>\n",
              "      <td>2018-09-27</td>\n",
              "      <td>234.55</td>\n",
              "      <td>236.80</td>\n",
              "      <td>231.10</td>\n",
              "      <td>233.80</td>\n",
              "      <td>233.25</td>\n",
              "      <td>5082859</td>\n",
              "      <td>11859.95</td>\n",
              "    </tr>\n",
              "    <tr>\n",
              "      <th>2</th>\n",
              "      <td>2018-09-26</td>\n",
              "      <td>240.00</td>\n",
              "      <td>240.00</td>\n",
              "      <td>232.50</td>\n",
              "      <td>235.00</td>\n",
              "      <td>234.25</td>\n",
              "      <td>2240909</td>\n",
              "      <td>5248.60</td>\n",
              "    </tr>\n",
              "    <tr>\n",
              "      <th>3</th>\n",
              "      <td>2018-09-25</td>\n",
              "      <td>233.30</td>\n",
              "      <td>236.75</td>\n",
              "      <td>232.00</td>\n",
              "      <td>236.25</td>\n",
              "      <td>236.10</td>\n",
              "      <td>2349368</td>\n",
              "      <td>5503.90</td>\n",
              "    </tr>\n",
              "    <tr>\n",
              "      <th>4</th>\n",
              "      <td>2018-09-24</td>\n",
              "      <td>233.55</td>\n",
              "      <td>239.20</td>\n",
              "      <td>230.75</td>\n",
              "      <td>234.00</td>\n",
              "      <td>233.30</td>\n",
              "      <td>3423509</td>\n",
              "      <td>7999.55</td>\n",
              "    </tr>\n",
              "  </tbody>\n",
              "</table>\n",
              "</div>"
            ],
            "text/plain": [
              "         Date    Open    High  ...   Close  Total Trade Quantity  Turnover (Lacs)\n",
              "0  2018-09-28  234.05  235.95  ...  233.75               3069914          7162.35\n",
              "1  2018-09-27  234.55  236.80  ...  233.25               5082859         11859.95\n",
              "2  2018-09-26  240.00  240.00  ...  234.25               2240909          5248.60\n",
              "3  2018-09-25  233.30  236.75  ...  236.10               2349368          5503.90\n",
              "4  2018-09-24  233.55  239.20  ...  233.30               3423509          7999.55\n",
              "\n",
              "[5 rows x 8 columns]"
            ]
          },
          "metadata": {},
          "execution_count": 4
        }
      ]
    },
    {
      "cell_type": "code",
      "metadata": {
        "id": "5JUNyFqTVquV"
      },
      "source": [
        "# Feature Scaling\n",
        "from sklearn.preprocessing import MinMaxScaler\n",
        "sc = MinMaxScaler(feature_range = (0, 1))\n",
        "training_set_scaled = sc.fit_transform(training_set)"
      ],
      "execution_count": null,
      "outputs": []
    },
    {
      "cell_type": "code",
      "metadata": {
        "id": "RlwG0dc9XsuE"
      },
      "source": [
        "# Creating a data structure with 60 timesteps and 1 output\n",
        "X_train = []\n",
        "y_train = []\n",
        "for i in range(60, 2035):\n",
        "    X_train.append(training_set_scaled[i-60:i, 0])\n",
        "    y_train.append(training_set_scaled[i, 0])\n",
        "X_train, y_train = np.array(X_train), np.array(y_train)\n"
      ],
      "execution_count": null,
      "outputs": []
    },
    {
      "cell_type": "code",
      "metadata": {
        "id": "GuijklAjX2FD"
      },
      "source": [
        "# Reshaping\n",
        "X_train = np.reshape(X_train, (X_train.shape[0], X_train.shape[1], 1))"
      ],
      "execution_count": null,
      "outputs": []
    },
    {
      "cell_type": "code",
      "metadata": {
        "id": "DJAu0DqNX6M-"
      },
      "source": [
        "# Part 2 - Building the RNN\n",
        "\n",
        "# Importing the Keras libraries and packages\n",
        "from keras.models import Sequential\n",
        "from keras.layers import Dense\n",
        "from keras.layers import LSTM\n",
        "from keras.layers import Dropout"
      ],
      "execution_count": null,
      "outputs": []
    },
    {
      "cell_type": "code",
      "metadata": {
        "id": "xsaaYdg6X_Oz"
      },
      "source": [
        "# Initialising the RNN\n",
        "regressor = Sequential()\n",
        "\n",
        "# Adding the first LSTM layer and some Dropout regularisation\n",
        "regressor.add(LSTM(units = 50, return_sequences = True, input_shape = (X_train.shape[1], 1)))\n",
        "regressor.add(Dropout(0.2))"
      ],
      "execution_count": null,
      "outputs": []
    },
    {
      "cell_type": "code",
      "metadata": {
        "id": "bA2TAYeFYHYK"
      },
      "source": [
        "# Adding a second LSTM layer and some Dropout regularisation\n",
        "regressor.add(LSTM(units = 50, return_sequences = True))\n",
        "regressor.add(Dropout(0.2))"
      ],
      "execution_count": null,
      "outputs": []
    },
    {
      "cell_type": "code",
      "metadata": {
        "id": "QyI7Cf0tYMVR"
      },
      "source": [
        "# Adding a third LSTM layer and some Dropout regularisation\n",
        "regressor.add(LSTM(units = 50, return_sequences = True))\n",
        "regressor.add(Dropout(0.2))"
      ],
      "execution_count": null,
      "outputs": []
    },
    {
      "cell_type": "code",
      "metadata": {
        "id": "Rs3bJW1-YQPS"
      },
      "source": [
        "# Adding a fourth LSTM layer and some Dropout regularisation\n",
        "regressor.add(LSTM(units = 50))\n",
        "regressor.add(Dropout(0.2))"
      ],
      "execution_count": null,
      "outputs": []
    },
    {
      "cell_type": "code",
      "metadata": {
        "colab": {
          "base_uri": "https://localhost:8080/"
        },
        "id": "nTKGqRZnYTZS",
        "outputId": "7a88599a-d21a-4b69-c8bb-49b1eea21866"
      },
      "source": [
        "\n",
        "# Adding the output layer\n",
        "regressor.add(Dense(units = 1))\n",
        "\n",
        "# Compiling the RNN\n",
        "regressor.compile(optimizer = 'adam', loss = 'mean_squared_error')\n",
        "\n",
        "# Fitting the RNN to the Training set\n",
        "regressor.fit(X_train, y_train, epochs = 100, batch_size = 32)"
      ],
      "execution_count": null,
      "outputs": [
        {
          "output_type": "stream",
          "text": [
            "Epoch 1/100\n",
            "62/62 [==============================] - 14s 117ms/step - loss: 0.0096\n",
            "Epoch 2/100\n",
            "62/62 [==============================] - 7s 117ms/step - loss: 0.0032\n",
            "Epoch 3/100\n",
            "62/62 [==============================] - 7s 117ms/step - loss: 0.0028\n",
            "Epoch 4/100\n",
            "62/62 [==============================] - 7s 119ms/step - loss: 0.0026\n",
            "Epoch 5/100\n",
            "62/62 [==============================] - 7s 117ms/step - loss: 0.0025\n",
            "Epoch 6/100\n",
            "62/62 [==============================] - 7s 116ms/step - loss: 0.0024\n",
            "Epoch 7/100\n",
            "62/62 [==============================] - 7s 118ms/step - loss: 0.0021\n",
            "Epoch 8/100\n",
            "62/62 [==============================] - 7s 117ms/step - loss: 0.0021\n",
            "Epoch 9/100\n",
            "62/62 [==============================] - 7s 117ms/step - loss: 0.0021\n",
            "Epoch 10/100\n",
            "62/62 [==============================] - 7s 117ms/step - loss: 0.0024\n",
            "Epoch 11/100\n",
            "62/62 [==============================] - 7s 116ms/step - loss: 0.0016\n",
            "Epoch 12/100\n",
            "62/62 [==============================] - 7s 117ms/step - loss: 0.0017\n",
            "Epoch 13/100\n",
            "62/62 [==============================] - 7s 117ms/step - loss: 0.0018\n",
            "Epoch 14/100\n",
            "62/62 [==============================] - 7s 119ms/step - loss: 0.0017\n",
            "Epoch 15/100\n",
            "62/62 [==============================] - 7s 118ms/step - loss: 0.0016\n",
            "Epoch 16/100\n",
            "62/62 [==============================] - 7s 119ms/step - loss: 0.0015\n",
            "Epoch 17/100\n",
            "62/62 [==============================] - 7s 118ms/step - loss: 0.0017\n",
            "Epoch 18/100\n",
            "62/62 [==============================] - 7s 118ms/step - loss: 0.0016\n",
            "Epoch 19/100\n",
            "62/62 [==============================] - 7s 118ms/step - loss: 0.0017\n",
            "Epoch 20/100\n",
            "62/62 [==============================] - 7s 117ms/step - loss: 0.0013\n",
            "Epoch 21/100\n",
            "62/62 [==============================] - 7s 119ms/step - loss: 0.0014\n",
            "Epoch 22/100\n",
            "62/62 [==============================] - 7s 117ms/step - loss: 0.0015\n",
            "Epoch 23/100\n",
            "62/62 [==============================] - 7s 118ms/step - loss: 0.0011\n",
            "Epoch 24/100\n",
            "62/62 [==============================] - 7s 117ms/step - loss: 0.0012\n",
            "Epoch 25/100\n",
            "62/62 [==============================] - 7s 118ms/step - loss: 0.0012\n",
            "Epoch 26/100\n",
            "62/62 [==============================] - 7s 118ms/step - loss: 0.0012\n",
            "Epoch 27/100\n",
            "62/62 [==============================] - 7s 119ms/step - loss: 0.0013\n",
            "Epoch 28/100\n",
            "62/62 [==============================] - 7s 117ms/step - loss: 0.0014\n",
            "Epoch 29/100\n",
            "62/62 [==============================] - 7s 118ms/step - loss: 0.0011\n",
            "Epoch 30/100\n",
            "62/62 [==============================] - 7s 119ms/step - loss: 0.0013\n",
            "Epoch 31/100\n",
            "62/62 [==============================] - 7s 118ms/step - loss: 0.0011\n",
            "Epoch 32/100\n",
            "62/62 [==============================] - 7s 119ms/step - loss: 0.0012\n",
            "Epoch 33/100\n",
            "62/62 [==============================] - 7s 118ms/step - loss: 0.0012\n",
            "Epoch 34/100\n",
            "62/62 [==============================] - 7s 118ms/step - loss: 0.0011\n",
            "Epoch 35/100\n",
            "62/62 [==============================] - 7s 118ms/step - loss: 0.0011\n",
            "Epoch 36/100\n",
            "62/62 [==============================] - 7s 118ms/step - loss: 9.7944e-04\n",
            "Epoch 37/100\n",
            "62/62 [==============================] - 7s 119ms/step - loss: 9.0116e-04\n",
            "Epoch 38/100\n",
            "62/62 [==============================] - 7s 118ms/step - loss: 0.0010\n",
            "Epoch 39/100\n",
            "62/62 [==============================] - 7s 118ms/step - loss: 9.3379e-04\n",
            "Epoch 40/100\n",
            "62/62 [==============================] - 7s 119ms/step - loss: 8.0427e-04\n",
            "Epoch 41/100\n",
            "62/62 [==============================] - 7s 117ms/step - loss: 9.6387e-04\n",
            "Epoch 42/100\n",
            "62/62 [==============================] - 7s 120ms/step - loss: 9.7522e-04\n",
            "Epoch 43/100\n",
            "62/62 [==============================] - 7s 120ms/step - loss: 8.9044e-04\n",
            "Epoch 44/100\n",
            "62/62 [==============================] - 7s 119ms/step - loss: 8.9438e-04\n",
            "Epoch 45/100\n",
            "62/62 [==============================] - 7s 119ms/step - loss: 8.0040e-04\n",
            "Epoch 46/100\n",
            "62/62 [==============================] - 7s 118ms/step - loss: 9.5393e-04\n",
            "Epoch 47/100\n",
            "62/62 [==============================] - 7s 119ms/step - loss: 8.4449e-04\n",
            "Epoch 48/100\n",
            "62/62 [==============================] - 7s 120ms/step - loss: 8.1539e-04\n",
            "Epoch 49/100\n",
            "62/62 [==============================] - 7s 119ms/step - loss: 8.6444e-04\n",
            "Epoch 50/100\n",
            "62/62 [==============================] - 7s 118ms/step - loss: 8.6540e-04\n",
            "Epoch 51/100\n",
            "62/62 [==============================] - 7s 120ms/step - loss: 9.3044e-04\n",
            "Epoch 52/100\n",
            "62/62 [==============================] - 7s 119ms/step - loss: 9.4431e-04\n",
            "Epoch 53/100\n",
            "62/62 [==============================] - 7s 118ms/step - loss: 8.6102e-04\n",
            "Epoch 54/100\n",
            "62/62 [==============================] - 7s 117ms/step - loss: 8.1150e-04\n",
            "Epoch 55/100\n",
            "62/62 [==============================] - 7s 119ms/step - loss: 7.7435e-04\n",
            "Epoch 56/100\n",
            "62/62 [==============================] - 7s 119ms/step - loss: 7.4183e-04\n",
            "Epoch 57/100\n",
            "62/62 [==============================] - 7s 119ms/step - loss: 7.6742e-04\n",
            "Epoch 58/100\n",
            "62/62 [==============================] - 7s 120ms/step - loss: 8.0611e-04\n",
            "Epoch 59/100\n",
            "62/62 [==============================] - 7s 119ms/step - loss: 7.8672e-04\n",
            "Epoch 60/100\n",
            "62/62 [==============================] - 7s 118ms/step - loss: 7.8056e-04\n",
            "Epoch 61/100\n",
            "62/62 [==============================] - 7s 120ms/step - loss: 8.5645e-04\n",
            "Epoch 62/100\n",
            "62/62 [==============================] - 7s 118ms/step - loss: 8.2495e-04\n",
            "Epoch 63/100\n",
            "62/62 [==============================] - 7s 120ms/step - loss: 7.8135e-04\n",
            "Epoch 64/100\n",
            "62/62 [==============================] - 7s 120ms/step - loss: 7.0766e-04\n",
            "Epoch 65/100\n",
            "62/62 [==============================] - 7s 120ms/step - loss: 7.0368e-04\n",
            "Epoch 66/100\n",
            "62/62 [==============================] - 7s 120ms/step - loss: 6.8448e-04\n",
            "Epoch 67/100\n",
            "62/62 [==============================] - 7s 121ms/step - loss: 7.0793e-04\n",
            "Epoch 68/100\n",
            "62/62 [==============================] - 7s 119ms/step - loss: 7.7608e-04\n",
            "Epoch 69/100\n",
            "62/62 [==============================] - 7s 120ms/step - loss: 7.3277e-04\n",
            "Epoch 70/100\n",
            "62/62 [==============================] - 7s 118ms/step - loss: 6.9190e-04\n",
            "Epoch 71/100\n",
            "62/62 [==============================] - 7s 118ms/step - loss: 7.0439e-04\n",
            "Epoch 72/100\n",
            "62/62 [==============================] - 7s 118ms/step - loss: 7.5009e-04\n",
            "Epoch 73/100\n",
            "62/62 [==============================] - 7s 118ms/step - loss: 7.5260e-04\n",
            "Epoch 74/100\n",
            "62/62 [==============================] - 7s 118ms/step - loss: 6.7866e-04\n",
            "Epoch 75/100\n",
            "62/62 [==============================] - 7s 120ms/step - loss: 6.7542e-04\n",
            "Epoch 76/100\n",
            "62/62 [==============================] - 7s 118ms/step - loss: 6.7686e-04\n",
            "Epoch 77/100\n",
            "62/62 [==============================] - 7s 119ms/step - loss: 6.4836e-04\n",
            "Epoch 78/100\n",
            "62/62 [==============================] - 7s 119ms/step - loss: 6.3048e-04\n",
            "Epoch 79/100\n",
            "62/62 [==============================] - 7s 120ms/step - loss: 6.7283e-04\n",
            "Epoch 80/100\n",
            "62/62 [==============================] - 7s 119ms/step - loss: 6.6504e-04\n",
            "Epoch 81/100\n",
            "62/62 [==============================] - 7s 119ms/step - loss: 6.4941e-04\n",
            "Epoch 82/100\n",
            "62/62 [==============================] - 7s 119ms/step - loss: 6.1524e-04\n",
            "Epoch 83/100\n",
            "62/62 [==============================] - 7s 120ms/step - loss: 7.1599e-04\n",
            "Epoch 84/100\n",
            "62/62 [==============================] - 7s 119ms/step - loss: 7.0271e-04\n",
            "Epoch 85/100\n",
            "62/62 [==============================] - 7s 118ms/step - loss: 6.1955e-04\n",
            "Epoch 86/100\n",
            "62/62 [==============================] - 7s 119ms/step - loss: 5.7216e-04\n",
            "Epoch 87/100\n",
            "62/62 [==============================] - 7s 118ms/step - loss: 6.7351e-04\n",
            "Epoch 88/100\n",
            "62/62 [==============================] - 7s 119ms/step - loss: 6.7850e-04\n",
            "Epoch 89/100\n",
            "62/62 [==============================] - 7s 118ms/step - loss: 6.7554e-04\n",
            "Epoch 90/100\n",
            "62/62 [==============================] - 7s 119ms/step - loss: 6.3860e-04\n",
            "Epoch 91/100\n",
            "62/62 [==============================] - 7s 119ms/step - loss: 6.9674e-04\n",
            "Epoch 92/100\n",
            "62/62 [==============================] - 7s 118ms/step - loss: 6.3320e-04\n",
            "Epoch 93/100\n",
            "62/62 [==============================] - 7s 118ms/step - loss: 6.9915e-04\n",
            "Epoch 94/100\n",
            "62/62 [==============================] - 7s 117ms/step - loss: 6.4454e-04\n",
            "Epoch 95/100\n",
            "62/62 [==============================] - 7s 118ms/step - loss: 5.9642e-04\n",
            "Epoch 96/100\n",
            "62/62 [==============================] - 7s 118ms/step - loss: 6.6485e-04\n",
            "Epoch 97/100\n",
            "62/62 [==============================] - 7s 119ms/step - loss: 6.5366e-04\n",
            "Epoch 98/100\n",
            "62/62 [==============================] - 7s 120ms/step - loss: 5.9937e-04\n",
            "Epoch 99/100\n",
            "62/62 [==============================] - 7s 118ms/step - loss: 5.8693e-04\n",
            "Epoch 100/100\n",
            "62/62 [==============================] - 7s 119ms/step - loss: 6.7994e-04\n"
          ],
          "name": "stdout"
        },
        {
          "output_type": "execute_result",
          "data": {
            "text/plain": [
              "<keras.callbacks.History at 0x7f7c47804810>"
            ]
          },
          "metadata": {},
          "execution_count": 13
        }
      ]
    },
    {
      "cell_type": "code",
      "metadata": {
        "id": "wxgOGgycYWf3"
      },
      "source": [
        "\n",
        "# Part 3 - Making the predictions and visualising the results\n",
        "\n",
        "# Getting the real stock price of 2017\n",
        "dataset_test = pd.read_csv('https://raw.githubusercontent.com/mwitiderrick/stockprice/master/tatatest.csv')\n",
        "real_stock_price = dataset_test.iloc[:, 1:2].values"
      ],
      "execution_count": null,
      "outputs": []
    },
    {
      "cell_type": "code",
      "metadata": {
        "id": "l8C3xJlyYg9b"
      },
      "source": [
        "# Getting the predicted stock price of 2017\n",
        "dataset_total = pd.concat((dataset_train['Open'], dataset_test['Open']), axis = 0)\n",
        "inputs = dataset_total[len(dataset_total) - len(dataset_test) - 60:].values\n",
        "inputs = inputs.reshape(-1,1)\n",
        "inputs = sc.transform(inputs)\n",
        "X_test = []\n",
        "for i in range(60, 76):\n",
        "    X_test.append(inputs[i-60:i, 0])\n",
        "X_test = np.array(X_test)\n",
        "X_test = np.reshape(X_test, (X_test.shape[0], X_test.shape[1], 1))\n",
        "predicted_stock_price = regressor.predict(X_test)\n",
        "predicted_stock_price = sc.inverse_transform(predicted_stock_price)"
      ],
      "execution_count": null,
      "outputs": []
    },
    {
      "cell_type": "code",
      "metadata": {
        "colab": {
          "base_uri": "https://localhost:8080/",
          "height": 325
        },
        "id": "gmod_-dpZCI6",
        "outputId": "4c54343b-e139-4910-e2a3-f1e02ab25373"
      },
      "source": [
        "\n",
        "# Visualising the results\n",
        "plt.plot(real_stock_price, color = 'red', label = 'Real TATA Stock Price')\n",
        "plt.plot(predicted_stock_price, color = 'blue', label = 'Predicted TAT Stock Price')\n",
        "plt.title('TATA Stock Price Prediction')\n",
        "plt.xlabel('Time')\n",
        "plt.ylabel('TATA Stock Price')\n",
        "plt.legend()\n",
        "plt.show()"
      ],
      "execution_count": null,
      "outputs": [
        {
          "output_type": "display_data",
          "data": {
            "image/png": "[encoded data removed]",
            "text/plain": [
              "<Figure size 432x288 with 1 Axes>"
            ]
          },
          "metadata": {}
        }
      ]
    },
    {
      "cell_type": "code",
      "metadata": {
        "id": "Q5eGujVDcBiO"
      },
      "source": [
        ""
      ],
      "execution_count": null,
      "outputs": []
    }
  ]
}
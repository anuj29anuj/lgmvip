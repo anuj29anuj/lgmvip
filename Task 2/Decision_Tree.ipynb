{
  "nbformat": 4,
  "nbformat_minor": 0,
  "metadata": {
    "colab": {
      "name": "Decision Tree.ipynb",
      "provenance": [],
      "collapsed_sections": []
    },
    "kernelspec": {
      "name": "python3",
      "display_name": "Python 3"
    },
    "language_info": {
      "name": "python"
    }
  },
  "cells": [
    {
      "cell_type": "code",
      "metadata": {
        "id": "paSA1LCAl92a"
      },
      "source": [
        "import pandas as pd\n",
        "import numpy as np\n",
        "import seaborn as sns\n",
        "import matplotlib.pyplot as plt"
      ],
      "execution_count": null,
      "outputs": []
    },
    {
      "cell_type": "code",
      "metadata": {
        "id": "_OEV9qFBmHIt"
      },
      "source": [
        "iris=pd.read_csv('F:\\The Spark Foundation/Iris (1).csv')\n",
        "iris"
      ],
      "execution_count": null,
      "outputs": []
    },
    {
      "cell_type": "code",
      "metadata": {
        "id": "sSqQEbj0mSbc"
      },
      "source": [
        "iris.info()"
      ],
      "execution_count": null,
      "outputs": []
    },
    {
      "cell_type": "code",
      "metadata": {
        "id": "tqYiCxZBmbN4"
      },
      "source": [
        "iris.Species.value_counts()"
      ],
      "execution_count": null,
      "outputs": []
    },
    {
      "cell_type": "code",
      "metadata": {
        "id": "vMFQUYonmeto"
      },
      "source": [
        "iris['Species_class']=np.where(iris.Species=='Iris-virginica',1,np.where(iris.Species=='Iris-versicolor',2,3))"
      ],
      "execution_count": null,
      "outputs": []
    },
    {
      "cell_type": "code",
      "metadata": {
        "id": "QLtiauzEmjUJ"
      },
      "source": [
        "iris.Species_class.value_counts()"
      ],
      "execution_count": null,
      "outputs": []
    },
    {
      "cell_type": "code",
      "metadata": {
        "id": "7XQq-ZI3mmIN"
      },
      "source": [
        "iris.columns"
      ],
      "execution_count": null,
      "outputs": []
    },
    {
      "cell_type": "code",
      "metadata": {
        "id": "ZmA1tvX7mpRs"
      },
      "source": [
        "cols=['SepalLengthCm', 'SepalWidthCm', 'PetalLengthCm', 'PetalWidthCm']"
      ],
      "execution_count": null,
      "outputs": []
    },
    {
      "cell_type": "code",
      "metadata": {
        "id": "sj9JKOAFmsEt"
      },
      "source": [
        "from sklearn.model_selection import train_test_split\n",
        "\n",
        "\n",
        "train_X, test_X, train_y, test_y = train_test_split( iris[cols],\n",
        "                                                  iris['Species_class'],\n",
        "                                                  test_size = 0.2,\n",
        "                                                  random_state = 123 )"
      ],
      "execution_count": null,
      "outputs": []
    },
    {
      "cell_type": "code",
      "metadata": {
        "id": "1zb6shKMmxdw"
      },
      "source": [
        "param_grid = {'max_depth': np.arange(2, 8),\n",
        "             'max_features': np.arange(2,5)}"
      ],
      "execution_count": null,
      "outputs": []
    },
    {
      "cell_type": "code",
      "metadata": {
        "id": "7X3m0nOlm6Y5"
      },
      "source": [
        "from sklearn.model_selection import GridSearchCV\n",
        "from sklearn.tree import DecisionTreeClassifier, export_graphviz, export\n",
        "tree = GridSearchCV(DecisionTreeClassifier(), param_grid, cv = 10,verbose=1,n_jobs=-1)\n",
        "tree.fit( train_X, train_y )"
      ],
      "execution_count": null,
      "outputs": []
    },
    {
      "cell_type": "code",
      "metadata": {
        "id": "NBTnEDf6nBG6"
      },
      "source": [
        "tree.best_score_\n",
        "tree.best_estimator_\n",
        "tree.best_params_"
      ],
      "execution_count": null,
      "outputs": []
    },
    {
      "cell_type": "code",
      "metadata": {
        "id": "nRd39hUPnL8R"
      },
      "source": [
        "train_pred = tree.predict(train_X)"
      ],
      "execution_count": null,
      "outputs": []
    },
    {
      "cell_type": "code",
      "metadata": {
        "id": "XuRKe00bnWd8"
      },
      "source": [
        "test_pred = tree.predict(test_X)"
      ],
      "execution_count": null,
      "outputs": []
    },
    {
      "cell_type": "code",
      "metadata": {
        "id": "Q9tP0SBynC_w"
      },
      "source": [
        "import sklearn.metrics as metrics\n",
        "print(metrics.classification_report(test_y, test_pred))"
      ],
      "execution_count": null,
      "outputs": []
    },
    {
      "cell_type": "code",
      "metadata": {
        "id": "wjXR-ukVnHMH"
      },
      "source": [
        "# Building Final Decision Tree\n",
        "clf_tree = DecisionTreeClassifier( max_depth = 4, max_features=2)\n",
        "clf_tree.fit( train_X, train_y )"
      ],
      "execution_count": null,
      "outputs": []
    },
    {
      "cell_type": "code",
      "metadata": {
        "id": "oq-iLcEbnwMl"
      },
      "source": [
        "tree_test_pred = pd.DataFrame( { 'actual':  test_y,\n",
        "                            'predicted': clf_tree.predict( test_X ) } )"
      ],
      "execution_count": null,
      "outputs": []
    },
    {
      "cell_type": "code",
      "metadata": {
        "id": "CXNEXelanw42"
      },
      "source": [
        "tree_test_pred.sample( n = 10 )"
      ],
      "execution_count": null,
      "outputs": []
    },
    {
      "cell_type": "code",
      "metadata": {
        "id": "6g7WZdO-nxUG"
      },
      "source": [
        "metrics.accuracy_score( tree_test_pred.actual, tree_test_pred.predicted )"
      ],
      "execution_count": null,
      "outputs": []
    },
    {
      "cell_type": "code",
      "metadata": {
        "id": "8Y3rGHkrn-0v"
      },
      "source": [
        "tree_cm = metrics.confusion_matrix( tree_test_pred.predicted,\n",
        "                                 tree_test_pred.actual,\n",
        "                                 [1,0] )\n",
        "sns.heatmap(tree_cm, annot=True,\n",
        "         fmt='.2f',\n",
        "         xticklabels = [\"Yes\", \"No\"] , yticklabels = [\"Yes\", \"No\"] )\n",
        "\n",
        "plt.ylabel('True label')\n",
        "plt.xlabel('Predicted label')"
      ],
      "execution_count": null,
      "outputs": []
    },
    {
      "cell_type": "code",
      "metadata": {
        "id": "zPXr8KXyoEIt"
      },
      "source": [
        "# Graphical Representation of Decision Tree\n",
        "from sklearn import tree\n",
        "fn=['sepal length (cm)','sepal width (cm)','petal length (cm)','petal width (cm)']\n",
        "cn=['setosa', 'versicolor', 'virginica']\n",
        "fig, axes = plt.subplots(nrows = 1,ncols = 1,figsize = (15,10), dpi=300)\n",
        "tree.plot_tree(clf_tree,\n",
        "               feature_names = fn, \n",
        "               class_names=cn,\n",
        "               filled = True);\n",
        "fig.savefig('imagename.png')"
      ],
      "execution_count": null,
      "outputs": []
    }
  ]
}